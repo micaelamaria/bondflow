{
 "cells": [
  {
   "cell_type": "code",
   "execution_count": null,
   "id": "93610c31",
   "metadata": {},
   "outputs": [],
   "source": [
    "#import\n",
    "\n",
    "import pandas as pd \n",
    "import numpy as np \n",
    "import matplotlib.pyplot as plt \n",
    "import MDAnalysis as mda\n",
    "from OPLS import OPLS_PLS\n",
    "import shap"
   ]
  },
  {
   "cell_type": "code",
   "execution_count": null,
   "id": "bc56e740",
   "metadata": {},
   "outputs": [],
   "source": [
    "# Make universe and load trajectory to memory\n",
    "u = mda.Universe(\"struct.pdb\",\"traj.xtc\")\n",
    "coords = np.array([u.atoms.positions.copy() for ts in u.trajectory])\n",
    "# Calculate function as distance between res 2 and 150 CA\n",
    "sel = u.select_atoms(\"resid 2 150 and name CA\")\n",
    "y = np.linalg.norm(coords[:,sel.indices[0],:]-coords[:,sel.indices[1],:], axis=-1)\n",
    "# Flatten from N by M by 3 dimensions to N by 3M\n",
    "X = coords.reshape((coords.shape[0],-1))"
   ]
  },
  {
   "cell_type": "code",
   "execution_count": null,
   "id": "fb1f66e3",
   "metadata": {},
   "outputs": [],
   "source": [
    "# Fitting:\n",
    "opls_pls = OPLS_PLS(n_components=1,pls_components=5).fit(X,y)\n",
    "\n",
    "# Predicting:\n",
    "y_new_predicted = opls_pls.predict(X_new)\n",
    "\n",
    "# Scoring:\n",
    "r2 = opls_pls.score(X_new, y_new)"
   ]
  },
  {
   "cell_type": "code",
   "execution_count": null,
   "id": "b0c42fec",
   "metadata": {},
   "outputs": [],
   "source": [
    "# get shap values\n",
    "explainer = shap.Explainer(model)\n",
    "shap_values = explainer(X)\n",
    "\n",
    "# waterfall plot for first observation\n",
    "shap.plots.waterfall(shap_values[0])"
   ]
  }
 ],
 "metadata": {
  "kernelspec": {
   "display_name": "Python 3",
   "language": "python",
   "name": "python3"
  },
  "language_info": {
   "name": "python",
   "version": "3.8.10"
  }
 },
 "nbformat": 4,
 "nbformat_minor": 5
}
